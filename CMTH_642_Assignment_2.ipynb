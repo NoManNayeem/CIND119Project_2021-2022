{
  "nbformat": 4,
  "nbformat_minor": 0,
  "metadata": {
    "kernelspec": {
      "display_name": "Python 3",
      "name": "python3"
    },
    "language_info": {
      "codemirror_mode": {
        "name": "ipython",
        "version": 3
      },
      "file_extension": ".py",
      "mimetype": "text/x-python",
      "name": "python",
      "nbconvert_exporter": "python",
      "pygments_lexer": "ipython3",
      "version": "3.7.6"
    },
    "colab": {
      "provenance": [],
      "include_colab_link": true
    }
  },
  "cells": [
    {
      "cell_type": "markdown",
      "metadata": {
        "id": "view-in-github",
        "colab_type": "text"
      },
      "source": [
        "<a href=\"https://colab.research.google.com/github/NoManNayeem/CIND119Project_2021-2022/blob/main/CMTH_642_Assignment_2.ipynb\" target=\"_parent\"><img src=\"https://colab.research.google.com/assets/colab-badge.svg\" alt=\"Open In Colab\"/></a>"
      ]
    },
    {
      "cell_type": "markdown",
      "metadata": {
        "collapsed": false,
        "id": "TX_-QfCapg5r"
      },
      "source": [
        "## CMTH642 - Data Analytics: Advanced Methods  \n",
        "### Assignment 2\n"
      ]
    },
    {
      "cell_type": "markdown",
      "source": [
        "Assignment 2 is worth 15% of the final grade. Submit the ipynb file and a generated output file (PDF or HTML). Failing to submit both files will be subject to a mark deduction.\n",
        "\n",
        "Your output file should include all the tables, plots, and requested figures/values.\n",
        "\n",
        "Printing the lengthy outputs (e.g., the whole data frame or a list with more than 100 elements) will have a deduction of 5 points. Instead, please use head() or tail() to have a neat output.\n",
        "\n",
        "If you preprocess the data in a question, you should continue with the same dataset in the following questions unless otherwise mentioned.\n"
      ],
      "metadata": {
        "id": "KPUF4R_NlrMT"
      }
    },
    {
      "cell_type": "markdown",
      "source": [
        "### Preparation:\n",
        "\n",
        "The dataset is related to Portuguese \"Vinho Verde\" wines. For more info:\n",
        "https://archive.ics.uci.edu/ml/datasets/Wine+Quality\n",
        "\n",
        "Import the following files:\n",
        "http://archive.ics.uci.edu/ml/machine-learning-databases/wine-quality/winequality-white.csv    \n",
        "http://archive.ics.uci.edu/ml/machine-learning-databases/wine-quality/winequality-red.csv\n"
      ],
      "metadata": {
        "id": "s2h0BVIqmIpE"
      }
    },
    {
      "cell_type": "code",
      "source": [
        "import pandas as pd\n",
        "url = \"https://archive.ics.uci.edu/ml/machine-learning-databases/wine-quality/winequality-red.csv\"\n",
        "red_wine_data = pd.read_csv(url,sep=';',header=0)\n",
        "\n",
        "# Check the first five records\n",
        "print(red_wine_data.head())\n",
        "# num_columns = red_wine_data.shape[1]\n",
        "# print(\"Number of columns in red_wine:\", num_columns)\n",
        "\n",
        "\n"
      ],
      "metadata": {
        "colab": {
          "base_uri": "https://localhost:8080/"
        },
        "id": "HVv52-92lFfY",
        "outputId": "07cdfd08-6b71-4a3a-e402-7c6162de1952"
      },
      "execution_count": 21,
      "outputs": [
        {
          "output_type": "stream",
          "name": "stdout",
          "text": [
            "   fixed acidity  volatile acidity  citric acid  residual sugar  chlorides  \\\n",
            "0            7.4              0.70         0.00             1.9      0.076   \n",
            "1            7.8              0.88         0.00             2.6      0.098   \n",
            "2            7.8              0.76         0.04             2.3      0.092   \n",
            "3           11.2              0.28         0.56             1.9      0.075   \n",
            "4            7.4              0.70         0.00             1.9      0.076   \n",
            "\n",
            "   free sulfur dioxide  total sulfur dioxide  density    pH  sulphates  \\\n",
            "0                 11.0                  34.0   0.9978  3.51       0.56   \n",
            "1                 25.0                  67.0   0.9968  3.20       0.68   \n",
            "2                 15.0                  54.0   0.9970  3.26       0.65   \n",
            "3                 17.0                  60.0   0.9980  3.16       0.58   \n",
            "4                 11.0                  34.0   0.9978  3.51       0.56   \n",
            "\n",
            "   alcohol  quality  \n",
            "0      9.4        5  \n",
            "1      9.8        5  \n",
            "2      9.8        5  \n",
            "3      9.8        6  \n",
            "4      9.4        5  \n"
          ]
        }
      ]
    },
    {
      "cell_type": "code",
      "source": [
        "import pandas as pd\n",
        "url1 = \"https://archive.ics.uci.edu/ml/machine-learning-databases/wine-quality/winequality-white.csv\"\n",
        "white_wine_data = pd.read_csv(url1,sep=';',header=0)\n",
        "\n",
        "# Check the first five records\n",
        "print(white_wine_data.head())"
      ],
      "metadata": {
        "colab": {
          "base_uri": "https://localhost:8080/"
        },
        "id": "-mLirCUJo3g1",
        "outputId": "2d7b8225-2a0d-4182-e4dd-64ef64c5217d"
      },
      "execution_count": 22,
      "outputs": [
        {
          "output_type": "stream",
          "name": "stdout",
          "text": [
            "   fixed acidity  volatile acidity  citric acid  residual sugar  chlorides  \\\n",
            "0            7.0              0.27         0.36            20.7      0.045   \n",
            "1            6.3              0.30         0.34             1.6      0.049   \n",
            "2            8.1              0.28         0.40             6.9      0.050   \n",
            "3            7.2              0.23         0.32             8.5      0.058   \n",
            "4            7.2              0.23         0.32             8.5      0.058   \n",
            "\n",
            "   free sulfur dioxide  total sulfur dioxide  density    pH  sulphates  \\\n",
            "0                 45.0                 170.0   1.0010  3.00       0.45   \n",
            "1                 14.0                 132.0   0.9940  3.30       0.49   \n",
            "2                 30.0                  97.0   0.9951  3.26       0.44   \n",
            "3                 47.0                 186.0   0.9956  3.19       0.40   \n",
            "4                 47.0                 186.0   0.9956  3.19       0.40   \n",
            "\n",
            "   alcohol  quality  \n",
            "0      8.8        6  \n",
            "1      9.5        6  \n",
            "2     10.1        6  \n",
            "3      9.9        6  \n",
            "4      9.9        6  \n"
          ]
        }
      ]
    },
    {
      "cell_type": "code",
      "source": [
        "# Concatenate the DataFrames vertically (axis=0)\n",
        "wine_data_all = pd.concat([red_wine_data, white_wine_data], axis=0)\n",
        "\n",
        "wine_data_all.reset_index(drop=True, inplace=True)\n",
        "\n",
        "# num_columns = wine_data_all.shape[1]\n",
        "# print(\"Number of columns in wine_data_all:\", num_columns)\n",
        "\n",
        "# Display the result\n",
        "print(wine_data_all.head())\n",
        "print(wine_data_all.tail())\n"
      ],
      "metadata": {
        "colab": {
          "base_uri": "https://localhost:8080/"
        },
        "id": "q6XMoGqdpLDY",
        "outputId": "0263a57c-6fe7-42bc-d7ab-8aeb68532088"
      },
      "execution_count": 23,
      "outputs": [
        {
          "output_type": "stream",
          "name": "stdout",
          "text": [
            "   fixed acidity  volatile acidity  citric acid  residual sugar  chlorides  \\\n",
            "0            7.4              0.70         0.00             1.9      0.076   \n",
            "1            7.8              0.88         0.00             2.6      0.098   \n",
            "2            7.8              0.76         0.04             2.3      0.092   \n",
            "3           11.2              0.28         0.56             1.9      0.075   \n",
            "4            7.4              0.70         0.00             1.9      0.076   \n",
            "\n",
            "   free sulfur dioxide  total sulfur dioxide  density    pH  sulphates  \\\n",
            "0                 11.0                  34.0   0.9978  3.51       0.56   \n",
            "1                 25.0                  67.0   0.9968  3.20       0.68   \n",
            "2                 15.0                  54.0   0.9970  3.26       0.65   \n",
            "3                 17.0                  60.0   0.9980  3.16       0.58   \n",
            "4                 11.0                  34.0   0.9978  3.51       0.56   \n",
            "\n",
            "   alcohol  quality  \n",
            "0      9.4        5  \n",
            "1      9.8        5  \n",
            "2      9.8        5  \n",
            "3      9.8        6  \n",
            "4      9.4        5  \n",
            "      fixed acidity  volatile acidity  citric acid  residual sugar  chlorides  \\\n",
            "6492            6.2              0.21         0.29             1.6      0.039   \n",
            "6493            6.6              0.32         0.36             8.0      0.047   \n",
            "6494            6.5              0.24         0.19             1.2      0.041   \n",
            "6495            5.5              0.29         0.30             1.1      0.022   \n",
            "6496            6.0              0.21         0.38             0.8      0.020   \n",
            "\n",
            "      free sulfur dioxide  total sulfur dioxide  density    pH  sulphates  \\\n",
            "6492                 24.0                  92.0  0.99114  3.27       0.50   \n",
            "6493                 57.0                 168.0  0.99490  3.15       0.46   \n",
            "6494                 30.0                 111.0  0.99254  2.99       0.46   \n",
            "6495                 20.0                 110.0  0.98869  3.34       0.38   \n",
            "6496                 22.0                  98.0  0.98941  3.26       0.32   \n",
            "\n",
            "      alcohol  quality  \n",
            "6492     11.2        6  \n",
            "6493      9.6        5  \n",
            "6494      9.4        6  \n",
            "6495     12.8        7  \n",
            "6496     11.8        6  \n"
          ]
        }
      ]
    },
    {
      "cell_type": "markdown",
      "metadata": {
        "id": "_s6g0tee67kr"
      },
      "source": [
        "### Question 2\n",
        "Check the data types of the attributes. (2 points)"
      ]
    },
    {
      "cell_type": "code",
      "source": [
        "# Display the data types of attributes in the wine_data_all DataFrame\n",
        "print(wine_data_all.dtypes)"
      ],
      "metadata": {
        "colab": {
          "base_uri": "https://localhost:8080/"
        },
        "id": "OTcXq4I0p0Bk",
        "outputId": "91a8e726-5321-4727-b22f-4e6f763a553b"
      },
      "execution_count": 24,
      "outputs": [
        {
          "output_type": "stream",
          "name": "stdout",
          "text": [
            "fixed acidity           float64\n",
            "volatile acidity        float64\n",
            "citric acid             float64\n",
            "residual sugar          float64\n",
            "chlorides               float64\n",
            "free sulfur dioxide     float64\n",
            "total sulfur dioxide    float64\n",
            "density                 float64\n",
            "pH                      float64\n",
            "sulphates               float64\n",
            "alcohol                 float64\n",
            "quality                   int64\n",
            "dtype: object\n"
          ]
        }
      ]
    },
    {
      "cell_type": "markdown",
      "metadata": {
        "id": "xAvoOQnu67kv"
      },
      "source": [
        "### Question 3\n",
        "Are there any missing values in the dataset? How many? You should not print the whole dataset. (2 points)"
      ]
    },
    {
      "cell_type": "code",
      "source": [
        "# Check for missing values in the wine_data_all DataFrame and count them\n",
        "missing_values = wine_data_all.isnull().sum()\n",
        "\n",
        "# Display the count of missing values for each column\n",
        "print(missing_values)\n",
        "#Missing Value is 0"
      ],
      "metadata": {
        "colab": {
          "base_uri": "https://localhost:8080/"
        },
        "id": "ilaSwucyp9Hs",
        "outputId": "1c2969a0-5bdc-4439-edda-4c040ccf0f8d"
      },
      "execution_count": 25,
      "outputs": [
        {
          "output_type": "stream",
          "name": "stdout",
          "text": [
            "fixed acidity           0\n",
            "volatile acidity        0\n",
            "citric acid             0\n",
            "residual sugar          0\n",
            "chlorides               0\n",
            "free sulfur dioxide     0\n",
            "total sulfur dioxide    0\n",
            "density                 0\n",
            "pH                      0\n",
            "sulphates               0\n",
            "alcohol                 0\n",
            "quality                 0\n",
            "dtype: int64\n"
          ]
        }
      ]
    },
    {
      "cell_type": "markdown",
      "metadata": {
        "id": "TnITuRoZ67kw"
      },
      "source": [
        "### Question 4\n",
        "What is the correlation between the attributes other than Quality? (8 points)"
      ]
    },
    {
      "cell_type": "code",
      "source": [
        "#Assuming \"quality\" is the column not to consider\n",
        "attributes_except_quality = wine_data_all.drop(columns=[\"quality\"],axis=1)\n",
        "\n",
        "# Calculate the correlation matrix\n",
        "correlation_matrix = attributes_except_quality.corr()\n",
        "\n",
        "# Display the correlation matrix\n",
        "print(correlation_matrix)"
      ],
      "metadata": {
        "colab": {
          "base_uri": "https://localhost:8080/"
        },
        "id": "kErVmhBUq59M",
        "outputId": "1214eb37-05e6-47c4-abba-7d1ff7c34585"
      },
      "execution_count": 26,
      "outputs": [
        {
          "output_type": "stream",
          "name": "stdout",
          "text": [
            "                      fixed acidity  volatile acidity  citric acid  \\\n",
            "fixed acidity              1.000000          0.219008     0.324436   \n",
            "volatile acidity           0.219008          1.000000    -0.377981   \n",
            "citric acid                0.324436         -0.377981     1.000000   \n",
            "residual sugar            -0.111981         -0.196011     0.142451   \n",
            "chlorides                  0.298195          0.377124     0.038998   \n",
            "free sulfur dioxide       -0.282735         -0.352557     0.133126   \n",
            "total sulfur dioxide      -0.329054         -0.414476     0.195242   \n",
            "density                    0.458910          0.271296     0.096154   \n",
            "pH                        -0.252700          0.261454    -0.329808   \n",
            "sulphates                  0.299568          0.225984     0.056197   \n",
            "alcohol                   -0.095452         -0.037640    -0.010493   \n",
            "\n",
            "                      residual sugar  chlorides  free sulfur dioxide  \\\n",
            "fixed acidity              -0.111981   0.298195            -0.282735   \n",
            "volatile acidity           -0.196011   0.377124            -0.352557   \n",
            "citric acid                 0.142451   0.038998             0.133126   \n",
            "residual sugar              1.000000  -0.128940             0.402871   \n",
            "chlorides                  -0.128940   1.000000            -0.195045   \n",
            "free sulfur dioxide         0.402871  -0.195045             1.000000   \n",
            "total sulfur dioxide        0.495482  -0.279630             0.720934   \n",
            "density                     0.552517   0.362615             0.025717   \n",
            "pH                         -0.267320   0.044708            -0.145854   \n",
            "sulphates                  -0.185927   0.395593            -0.188457   \n",
            "alcohol                    -0.359415  -0.256916            -0.179838   \n",
            "\n",
            "                      total sulfur dioxide   density        pH  sulphates  \\\n",
            "fixed acidity                    -0.329054  0.458910 -0.252700   0.299568   \n",
            "volatile acidity                 -0.414476  0.271296  0.261454   0.225984   \n",
            "citric acid                       0.195242  0.096154 -0.329808   0.056197   \n",
            "residual sugar                    0.495482  0.552517 -0.267320  -0.185927   \n",
            "chlorides                        -0.279630  0.362615  0.044708   0.395593   \n",
            "free sulfur dioxide               0.720934  0.025717 -0.145854  -0.188457   \n",
            "total sulfur dioxide              1.000000  0.032395 -0.238413  -0.275727   \n",
            "density                           0.032395  1.000000  0.011686   0.259478   \n",
            "pH                               -0.238413  0.011686  1.000000   0.192123   \n",
            "sulphates                        -0.275727  0.259478  0.192123   1.000000   \n",
            "alcohol                          -0.265740 -0.686745  0.121248  -0.003029   \n",
            "\n",
            "                       alcohol  \n",
            "fixed acidity        -0.095452  \n",
            "volatile acidity     -0.037640  \n",
            "citric acid          -0.010493  \n",
            "residual sugar       -0.359415  \n",
            "chlorides            -0.256916  \n",
            "free sulfur dioxide  -0.179838  \n",
            "total sulfur dioxide -0.265740  \n",
            "density              -0.686745  \n",
            "pH                    0.121248  \n",
            "sulphates            -0.003029  \n",
            "alcohol               1.000000  \n"
          ]
        }
      ]
    },
    {
      "cell_type": "markdown",
      "metadata": {
        "id": "DVh2ZDUr67ky"
      },
      "source": [
        "### Question 5\n",
        "Plot the frequency distribution of wine quality by using the Quality attribute. (8 points)"
      ]
    },
    {
      "cell_type": "code",
      "source": [
        "import matplotlib.pyplot as plt\n",
        "import seaborn as sns\n",
        "\n",
        "# Plotting the frequency distribution\n",
        "plt.figure(figsize=(8, 6))\n",
        "sns.countplot(x='quality', data=wine_data_all, palette='viridis')  # Use 'viridis' for a nice color palette\n",
        "plt.title('Frequency Distribution of Wine Quality')\n",
        "plt.xlabel('Quality')\n",
        "plt.ylabel('Count')\n",
        "\n",
        "# Show the plot\n",
        "plt.show()"
      ],
      "metadata": {
        "colab": {
          "base_uri": "https://localhost:8080/",
          "height": 564
        },
        "id": "fUXs5NST6CUy",
        "outputId": "a8751598-58e7-4629-9efd-0fe91ca36e24"
      },
      "execution_count": 27,
      "outputs": [
        {
          "output_type": "display_data",
          "data": {
            "text/plain": [
              "<Figure size 800x600 with 1 Axes>"
            ],
            "image/png": "[encoded data removed]"
          },
          "metadata": {}
        }
      ]
    },
    {
      "cell_type": "markdown",
      "metadata": {
        "id": "-rwkqF6f67k0"
      },
      "source": [
        "### Question 6\n",
        "Reduce the levels of rating for quality to three levels, i.e., high(2), medium(1), and low(0). Assign the levels 3 and 4 to level 0; 5 and 6 to level 1; and 7, 8, and 9 to level 2. You can use either “high, medium, low” or equivalent numbers. (10 points)"
      ]
    },
    {
      "cell_type": "code",
      "source": [
        "\n",
        "# Define the mapping for quality levels\n",
        "quality_mapping = {3: \"low\", 4: \"low\", 5: \"medium\", 6: \"medium\", 7: \"high\", 8: \"high\", 9: \"high\"}\n",
        "\n",
        "# Create a new column 'quality_label' based on the mapping\n",
        "wine_data_all['quality_label'] = wine_data_all['quality'].map(quality_mapping)\n",
        "\n",
        "# Display the updated DataFrame\n",
        "print(wine_data_all[['quality', 'quality_label']].head())\n",
        "print(wine_data_all[['quality', 'quality_label']].tail())\n"
      ],
      "metadata": {
        "colab": {
          "base_uri": "https://localhost:8080/"
        },
        "id": "syshFkSL6UYt",
        "outputId": "a359f9df-1ef4-4362-e7f1-2bd3f75391f0"
      },
      "execution_count": 28,
      "outputs": [
        {
          "output_type": "stream",
          "name": "stdout",
          "text": [
            "   quality quality_label\n",
            "0        5        medium\n",
            "1        5        medium\n",
            "2        5        medium\n",
            "3        6        medium\n",
            "4        5        medium\n",
            "      quality quality_label\n",
            "6492        6        medium\n",
            "6493        5        medium\n",
            "6494        6        medium\n",
            "6495        7          high\n",
            "6496        6        medium\n"
          ]
        }
      ]
    },
    {
      "cell_type": "markdown",
      "metadata": {
        "id": "Uw_zd-JM67k1"
      },
      "source": [
        "### Question 7\n",
        "Normalize the numeric attributes. Hint: (x - min(x)) / (max(x) - min(x)) (10 points)"
      ]
    },
    {
      "cell_type": "code",
      "source": [
        "\n",
        "# Extracting numeric columns for normalization\n",
        "numeric_columns = wine_data_all.select_dtypes(include=['float64', 'int64']).columns\n",
        "\n",
        "# Normalize numeric columns\n",
        "wine_data_all[numeric_columns] = (wine_data_all[numeric_columns] - wine_data_all[numeric_columns].min()) / (wine_data_all[numeric_columns].max() - wine_data_all[numeric_columns].min())\n",
        "\n",
        "# Display the updated DataFrame\n",
        "print(wine_data_all[numeric_columns].head())\n",
        "print(wine_data_all[numeric_columns].tail())\n"
      ],
      "metadata": {
        "colab": {
          "base_uri": "https://localhost:8080/"
        },
        "id": "02Ls489F7V01",
        "outputId": "2b63a27a-7952-4771-e52a-47de2f2c58fb"
      },
      "execution_count": 29,
      "outputs": [
        {
          "output_type": "stream",
          "name": "stdout",
          "text": [
            "   fixed acidity  volatile acidity  citric acid  residual sugar  chlorides  \\\n",
            "0       0.297521          0.413333     0.000000        0.019939   0.111296   \n",
            "1       0.330579          0.533333     0.000000        0.030675   0.147841   \n",
            "2       0.330579          0.453333     0.024096        0.026074   0.137874   \n",
            "3       0.611570          0.133333     0.337349        0.019939   0.109635   \n",
            "4       0.297521          0.413333     0.000000        0.019939   0.111296   \n",
            "\n",
            "   free sulfur dioxide  total sulfur dioxide   density        pH  sulphates  \\\n",
            "0             0.034722              0.064516  0.206092  0.612403   0.191011   \n",
            "1             0.083333              0.140553  0.186813  0.372093   0.258427   \n",
            "2             0.048611              0.110599  0.190669  0.418605   0.241573   \n",
            "3             0.055556              0.124424  0.209948  0.341085   0.202247   \n",
            "4             0.034722              0.064516  0.206092  0.612403   0.191011   \n",
            "\n",
            "    alcohol   quality  \n",
            "0  0.202899  0.333333  \n",
            "1  0.260870  0.333333  \n",
            "2  0.260870  0.333333  \n",
            "3  0.260870  0.500000  \n",
            "4  0.202899  0.333333  \n",
            "      fixed acidity  volatile acidity  citric acid  residual sugar  chlorides  \\\n",
            "6492       0.198347          0.086667     0.174699        0.015337   0.049834   \n",
            "6493       0.231405          0.160000     0.216867        0.113497   0.063123   \n",
            "6494       0.223140          0.106667     0.114458        0.009202   0.053156   \n",
            "6495       0.140496          0.140000     0.180723        0.007669   0.021595   \n",
            "6496       0.181818          0.086667     0.228916        0.003067   0.018272   \n",
            "\n",
            "      free sulfur dioxide  total sulfur dioxide   density        pH  \\\n",
            "6492             0.079861              0.198157  0.077694  0.426357   \n",
            "6493             0.194444              0.373272  0.150183  0.333333   \n",
            "6494             0.100694              0.241935  0.104685  0.209302   \n",
            "6495             0.065972              0.239631  0.030461  0.480620   \n",
            "6496             0.072917              0.211982  0.044342  0.418605   \n",
            "\n",
            "      sulphates   alcohol   quality  \n",
            "6492   0.157303  0.463768  0.500000  \n",
            "6493   0.134831  0.231884  0.333333  \n",
            "6494   0.134831  0.202899  0.500000  \n",
            "6495   0.089888  0.695652  0.666667  \n",
            "6496   0.056180  0.550725  0.500000  \n"
          ]
        }
      ]
    },
    {
      "cell_type": "markdown",
      "metadata": {
        "id": "t0MbenQb67k2"
      },
      "source": [
        "### Question 8\n",
        "Divide the dataset to training and test sets. (10 points)"
      ]
    },
    {
      "cell_type": "code",
      "source": [
        "from sklearn.model_selection import train_test_split\n",
        "\n",
        "# Features (X) and target variable (y)\n",
        "X = wine_data_all.drop('quality_label', axis=1)  # Features\n",
        "y = wine_data_all['quality_label']  # Target variable\n",
        "\n",
        "# Split the data into training and test sets (80% training, 20% test by default)\n",
        "X_train, X_test, y_train, y_test = train_test_split(X, y, random_state=42)\n",
        "\n",
        "# Display the shape of the training and test sets\n",
        "print(\"X_train shape:\", X_train.shape)\n",
        "print(\"X_test shape:\", X_test.shape)\n",
        "print(\"y_train shape:\", y_train.shape)\n",
        "print(\"y_test shape:\", y_test.shape)"
      ],
      "metadata": {
        "colab": {
          "base_uri": "https://localhost:8080/"
        },
        "id": "paoTw7Rn8Z6U",
        "outputId": "1eacdae4-c5c1-459a-a071-225cc179dea1"
      },
      "execution_count": 30,
      "outputs": [
        {
          "output_type": "stream",
          "name": "stdout",
          "text": [
            "X_train shape: (4872, 12)\n",
            "X_test shape: (1625, 12)\n",
            "y_train shape: (4872,)\n",
            "y_test shape: (1625,)\n"
          ]
        }
      ]
    },
    {
      "cell_type": "markdown",
      "source": [
        "### Question 9\n",
        "Use the Logistic Regression algorithm to predict the quality of wine using its attributes. (12 points)"
      ],
      "metadata": {
        "id": "Z0-NvzsYno7l"
      }
    },
    {
      "cell_type": "code",
      "source": [
        "from sklearn.linear_model import LogisticRegression\n",
        "from sklearn.metrics import accuracy_score, classification_report\n",
        "from sklearn.preprocessing import StandardScaler\n",
        "\n",
        "# Standardize the features (optional but can be beneficial for some algorithms)\n",
        "scaler = StandardScaler()\n",
        "X_train_scaled = scaler.fit_transform(X_train)\n",
        "X_test_scaled = scaler.transform(X_test)\n",
        "\n",
        "# Create a Logistic Regression model\n",
        "model = LogisticRegression(random_state=42)\n",
        "\n",
        "# Fit the model on the training data\n",
        "model.fit(X_train_scaled, y_train)\n",
        "\n",
        "# Make predictions on the test data\n",
        "y_pred_logistic_regression = model.predict(X_test_scaled)\n",
        "\n",
        "# Evaluate the model\n",
        "accuracy = accuracy_score(y_test, y_pred_logistic_regression)\n",
        "classification_report_result = classification_report(y_test, y_pred_logistic_regression)\n",
        "\n",
        "# Display the results\n",
        "print(\"Accuracy:\", accuracy)\n",
        "print(\"\\nClassification Report:\\n\", classification_report_result)\n"
      ],
      "metadata": {
        "colab": {
          "base_uri": "https://localhost:8080/"
        },
        "id": "qDT5uqf38sZC",
        "outputId": "77d5dd70-a463-439a-a64b-ca07b853e003"
      },
      "execution_count": 31,
      "outputs": [
        {
          "output_type": "stream",
          "name": "stdout",
          "text": [
            "Accuracy: 1.0\n",
            "\n",
            "Classification Report:\n",
            "               precision    recall  f1-score   support\n",
            "\n",
            "        high       1.00      1.00      1.00       303\n",
            "         low       1.00      1.00      1.00        66\n",
            "      medium       1.00      1.00      1.00      1256\n",
            "\n",
            "    accuracy                           1.00      1625\n",
            "   macro avg       1.00      1.00      1.00      1625\n",
            "weighted avg       1.00      1.00      1.00      1625\n",
            "\n"
          ]
        }
      ]
    },
    {
      "cell_type": "markdown",
      "metadata": {
        "id": "UtVW9Wqi67k5"
      },
      "source": [
        "### Question 10\n",
        "Use the KNN algorithm to predict the quality of wine using its attributes. (12 points)"
      ]
    },
    {
      "cell_type": "code",
      "source": [
        "from sklearn.neighbors import KNeighborsClassifier\n",
        "\n",
        "# Create a KNN model\n",
        "knn_model = KNeighborsClassifier(n_neighbors=3)  # You can adjust the number of neighbors\n",
        "\n",
        "# Fit the model on the training data\n",
        "knn_model.fit(X_train_scaled, y_train)\n",
        "\n",
        "# Make predictions on the test data\n",
        "y_pred_knn = knn_model.predict(X_test_scaled)\n",
        "\n",
        "# Evaluate the model\n",
        "accuracy = accuracy_score(y_test, y_pred_knn)\n",
        "classification_report_result = classification_report(y_test, y_pred_knn)\n",
        "\n",
        "# Display the results\n",
        "print(\"Accuracy:\", accuracy)\n",
        "print(\"\\nClassification Report:\\n\", classification_report_result)\n"
      ],
      "metadata": {
        "colab": {
          "base_uri": "https://localhost:8080/"
        },
        "id": "kCb_TvOq_brx",
        "outputId": "36d1915a-2dc7-44ca-ff8d-3bdab7856d48"
      },
      "execution_count": 32,
      "outputs": [
        {
          "output_type": "stream",
          "name": "stdout",
          "text": [
            "Accuracy: 0.9655384615384616\n",
            "\n",
            "Classification Report:\n",
            "               precision    recall  f1-score   support\n",
            "\n",
            "        high       0.98      0.94      0.96       303\n",
            "         low       1.00      0.50      0.67        66\n",
            "      medium       0.96      1.00      0.98      1256\n",
            "\n",
            "    accuracy                           0.97      1625\n",
            "   macro avg       0.98      0.81      0.87      1625\n",
            "weighted avg       0.97      0.97      0.96      1625\n",
            "\n"
          ]
        }
      ]
    },
    {
      "cell_type": "markdown",
      "metadata": {
        "id": "5_QQUorI67k8"
      },
      "source": [
        "### Question 11\n",
        "Display two confusion matrices to evaluate the performances of Logistic Regression and KNN. (A simple matrix is enough. No need to plot it.) (12 points)"
      ]
    },
    {
      "cell_type": "code",
      "source": [
        "from sklearn.metrics import confusion_matrix\n",
        "\n",
        "# Logistic Regression\n",
        "conf_matrix_logistic_regression = confusion_matrix(y_test, y_pred_logistic_regression)\n",
        "\n",
        "# KNN\n",
        "conf_matrix_knn = confusion_matrix(y_test, y_pred_knn)\n",
        "\n",
        "# Display the confusion matrices\n",
        "print(\"Confusion Matrix for Logistic Regression:\")\n",
        "print(conf_matrix_logistic_regression)\n",
        "\n",
        "print(\"\\nConfusion Matrix for KNN:\")\n",
        "print(conf_matrix_knn)"
      ],
      "metadata": {
        "colab": {
          "base_uri": "https://localhost:8080/"
        },
        "id": "wqwqtnbcA3St",
        "outputId": "2398e4f5-6682-4272-b496-0f19609a4306"
      },
      "execution_count": 33,
      "outputs": [
        {
          "output_type": "stream",
          "name": "stdout",
          "text": [
            "Confusion Matrix for Logistic Regression:\n",
            "[[ 303    0    0]\n",
            " [   0   66    0]\n",
            " [   0    0 1256]]\n",
            "\n",
            "Confusion Matrix for KNN:\n",
            "[[ 285    0   18]\n",
            " [   0   33   33]\n",
            " [   5    0 1251]]\n"
          ]
        }
      ]
    },
    {
      "cell_type": "markdown",
      "metadata": {
        "id": "O0kvru8vIr5y"
      },
      "source": [
        "### Question 12\n",
        "Evaluate the models’ performances by computing Accuracy, Precision, and Recall. If you are using a package to calculate the values, you should explain what you understand from the output of the package by mentioning the exact accuracy, precision, and recall values in your own words. (12 points)\n"
      ]
    },
    {
      "cell_type": "code",
      "source": [
        "\n",
        "# Logistic Regression\n",
        "accuracy_logistic_regression = accuracy_score(y_test, y_pred_logistic_regression)\n",
        "\n",
        "# KNN\n",
        "accuracy_knn = accuracy_score(y_test, y_pred_knn)\n",
        "\n",
        "# Display accuracy\n",
        "print(\"Accuracy for Logistic Regression:\", accuracy_logistic_regression)\n",
        "print(\"Accuracy for KNN:\", accuracy_knn)\n"
      ],
      "metadata": {
        "colab": {
          "base_uri": "https://localhost:8080/"
        },
        "id": "ctotyoOrCvOz",
        "outputId": "56c7cc9e-e395-4d08-fa54-b500d4a49187"
      },
      "execution_count": 34,
      "outputs": [
        {
          "output_type": "stream",
          "name": "stdout",
          "text": [
            "Accuracy for Logistic Regression: 1.0\n",
            "Accuracy for KNN: 0.9655384615384616\n"
          ]
        }
      ]
    },
    {
      "cell_type": "code",
      "source": [
        "# from sklearn.metrics import precision_score\n",
        "\n",
        "# # Logistic Regression\n",
        "# precision_logistic_regression = precision_score(y_test, y_pred_logistic_regression, average='weighted')\n",
        "\n",
        "# # KNN\n",
        "# precision_knn = precision_score(y_test, y_pred_knn, average='weighted')\n",
        "\n",
        "# # Display precision\n",
        "# print(\"Precision for Logistic Regression:\", precision_logistic_regression)\n",
        "# print(\"Precision for KNN:\", precision_knn)\n",
        "from sklearn.metrics import accuracy_score, precision_score, recall_score\n",
        "\n",
        "# Logistic Regression\n",
        "accuracy_logistic_regression = accuracy_score(y_test, y_pred_logistic_regression)\n",
        "precision_logistic_regression = precision_score(y_test, y_pred_logistic_regression, average='weighted')\n",
        "recall_logistic_regression = recall_score(y_test, y_pred_logistic_regression, average='weighted')\n",
        "\n",
        "# KNN\n",
        "accuracy_knn = accuracy_score(y_test, y_pred_knn)\n",
        "precision_knn = precision_score(y_test, y_pred_knn, average='weighted')\n",
        "recall_knn = recall_score(y_test, y_pred_knn, average='weighted')\n",
        "\n",
        "# Display accuracy, precision, and recall\n",
        "print(\"Logistic Regression - Accuracy:\", accuracy_logistic_regression,\n",
        "      \" Precision:\", precision_logistic_regression,\n",
        "      \" Recall:\", recall_logistic_regression)\n",
        "\n",
        "print(\"KNN - Accuracy:\", accuracy_knn,\n",
        "      \" Precision:\", precision_knn,\n",
        "      \" Recall:\", recall_knn)\n"
      ],
      "metadata": {
        "colab": {
          "base_uri": "https://localhost:8080/"
        },
        "id": "bHyORvtEDBrw",
        "outputId": "c367d8e4-cf22-4083-ecf1-eb4266085414"
      },
      "execution_count": 35,
      "outputs": [
        {
          "output_type": "stream",
          "name": "stdout",
          "text": [
            "Logistic Regression - Accuracy: 1.0  Precision: 1.0  Recall: 1.0\n",
            "KNN - Accuracy: 0.9655384615384616  Precision: 0.9665093571611926  Recall: 0.9655384615384616\n"
          ]
        }
      ]
    },
    {
      "cell_type": "code",
      "source": [
        "# from sklearn.metrics import recall_score\n",
        "\n",
        "# # Logistic Regression\n",
        "# recall_logistic_regression = recall_score(y_test, y_pred_logistic_regression, average='weighted')\n",
        "\n",
        "# # KNN\n",
        "# recall_knn = recall_score(y_test, y_pred_knn, average='weighted')\n",
        "\n",
        "# # Display recall\n",
        "# print(\"Recall for Logistic Regression:\", recall_logistic_regression)\n",
        "# print(\"Recall for KNN:\", recall_knn)\n"
      ],
      "metadata": {
        "id": "Dq2U0IJCDHIg"
      },
      "execution_count": 36,
      "outputs": []
    },
    {
      "cell_type": "code",
      "source": [],
      "metadata": {
        "id": "xMA9dTCLDk35"
      },
      "execution_count": 36,
      "outputs": []
    },
    {
      "cell_type": "markdown",
      "source": [
        "This is the end of Assignment 2\n",
        "\n",
        "Ceni Babaoglu, PhD"
      ],
      "metadata": {
        "id": "iIvLfsi-bz2Z"
      }
    }
  ]
}